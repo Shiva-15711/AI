{
  "nbformat": 4,
  "nbformat_minor": 0,
  "metadata": {
    "colab": {
      "name": "Load value_Multiple regression_Assignment 5",
      "provenance": [],
      "collapsed_sections": [],
      "include_colab_link": true
    },
    "kernelspec": {
      "name": "python3",
      "display_name": "Python 3"
    },
    "language_info": {
      "name": "python"
    }
  },
  "cells": [
    {
      "cell_type": "markdown",
      "metadata": {
        "id": "view-in-github",
        "colab_type": "text"
      },
      "source": [
        "<a href=\"https://colab.research.google.com/github/Shiva-15711/AI/blob/main/Load_value_Multiple_regression_Assignment_5.ipynb\" target=\"_parent\"><img src=\"https://colab.research.google.com/assets/colab-badge.svg\" alt=\"Open In Colab\"/></a>"
      ]
    },
    {
      "cell_type": "markdown",
      "metadata": {
        "id": "6m65b3yNMpPR"
      },
      "source": [
        "## Mount Google Drive"
      ]
    },
    {
      "cell_type": "code",
      "metadata": {
        "colab": {
          "base_uri": "https://localhost:8080/"
        },
        "id": "LHFTC-zNMcNp",
        "outputId": "8bb2bac1-795c-452f-91a6-dc095eef06c8"
      },
      "source": [
        "from google.colab import drive\n",
        "drive.mount('/content/drive')"
      ],
      "execution_count": 1,
      "outputs": [
        {
          "output_type": "stream",
          "name": "stdout",
          "text": [
            "Mounted at /content/drive\n"
          ]
        }
      ]
    },
    {
      "cell_type": "markdown",
      "metadata": {
        "id": "Xze3BMhpMtbw"
      },
      "source": [
        "# Import required libraries"
      ]
    },
    {
      "cell_type": "code",
      "metadata": {
        "id": "ReKKTAewMqow"
      },
      "source": [
        "import numpy as np\n",
        "import math as mt\n",
        "import random\n",
        "import pandas as pd"
      ],
      "execution_count": 2,
      "outputs": []
    },
    {
      "cell_type": "markdown",
      "metadata": {
        "id": "szK6zzn5Mwb5"
      },
      "source": [
        "## Import Data"
      ]
    },
    {
      "cell_type": "code",
      "metadata": {
        "colab": {
          "base_uri": "https://localhost:8080/",
          "height": 203
        },
        "id": "op6JfZsAMvbo",
        "outputId": "22ac84ea-9479-4837-9ebf-e94f8559ac12"
      },
      "source": [
        "data = pd.read_csv('/content/drive/MyDrive/AI_data/Fifth_assignment.csv')\n",
        "data.head()"
      ],
      "execution_count": 3,
      "outputs": [
        {
          "output_type": "execute_result",
          "data": {
            "text/html": [
              "<div>\n",
              "<style scoped>\n",
              "    .dataframe tbody tr th:only-of-type {\n",
              "        vertical-align: middle;\n",
              "    }\n",
              "\n",
              "    .dataframe tbody tr th {\n",
              "        vertical-align: top;\n",
              "    }\n",
              "\n",
              "    .dataframe thead th {\n",
              "        text-align: right;\n",
              "    }\n",
              "</style>\n",
              "<table border=\"1\" class=\"dataframe\">\n",
              "  <thead>\n",
              "    <tr style=\"text-align: right;\">\n",
              "      <th></th>\n",
              "      <th>X1</th>\n",
              "      <th>X2</th>\n",
              "      <th>X3</th>\n",
              "      <th>Y</th>\n",
              "    </tr>\n",
              "  </thead>\n",
              "  <tbody>\n",
              "    <tr>\n",
              "      <th>0</th>\n",
              "      <td>5551.82208</td>\n",
              "      <td>4983.17184</td>\n",
              "      <td>4888.39680</td>\n",
              "      <td>5072.95872</td>\n",
              "    </tr>\n",
              "    <tr>\n",
              "      <th>1</th>\n",
              "      <td>4983.17184</td>\n",
              "      <td>4888.39680</td>\n",
              "      <td>5072.95872</td>\n",
              "      <td>5196.25980</td>\n",
              "    </tr>\n",
              "    <tr>\n",
              "      <th>2</th>\n",
              "      <td>4888.39680</td>\n",
              "      <td>5072.95872</td>\n",
              "      <td>5196.25980</td>\n",
              "      <td>5641.29720</td>\n",
              "    </tr>\n",
              "    <tr>\n",
              "      <th>3</th>\n",
              "      <td>5072.95872</td>\n",
              "      <td>5196.25980</td>\n",
              "      <td>5641.29720</td>\n",
              "      <td>7153.17732</td>\n",
              "    </tr>\n",
              "    <tr>\n",
              "      <th>4</th>\n",
              "      <td>5196.25980</td>\n",
              "      <td>5641.29720</td>\n",
              "      <td>7153.17732</td>\n",
              "      <td>7849.80504</td>\n",
              "    </tr>\n",
              "  </tbody>\n",
              "</table>\n",
              "</div>"
            ],
            "text/plain": [
              "           X1          X2          X3           Y\n",
              "0  5551.82208  4983.17184  4888.39680  5072.95872\n",
              "1  4983.17184  4888.39680  5072.95872  5196.25980\n",
              "2  4888.39680  5072.95872  5196.25980  5641.29720\n",
              "3  5072.95872  5196.25980  5641.29720  7153.17732\n",
              "4  5196.25980  5641.29720  7153.17732  7849.80504"
            ]
          },
          "metadata": {},
          "execution_count": 3
        }
      ]
    },
    {
      "cell_type": "markdown",
      "metadata": {
        "id": "llJ7qwfBM9DR"
      },
      "source": [
        "## *Outliers Detection*"
      ]
    },
    {
      "cell_type": "code",
      "metadata": {
        "id": "36jCyPnaM33Q"
      },
      "source": [
        "outliers = []\n",
        "def detect_outliers_zscore(data):\n",
        "    thres = 3\n",
        "    mean = np.mean(data)\n",
        "    std = np.std(data)\n",
        "    # print(mean, std)\n",
        "    for i in data:\n",
        "        z_score = (i-mean)/std\n",
        "        if (np.abs(z_score) > thres):\n",
        "            outliers.append(i)\n",
        "    return outliers# Driver code"
      ],
      "execution_count": 4,
      "outputs": []
    },
    {
      "cell_type": "code",
      "metadata": {
        "colab": {
          "base_uri": "https://localhost:8080/"
        },
        "id": "_wSbM_GtM_bA",
        "outputId": "ce2c4100-c910-4806-82b6-3af9a837cc7e"
      },
      "source": [
        "sample_outliers_X1 = detect_outliers_zscore(data['X1'])\n",
        "sample_outliers_X2 = detect_outliers_zscore(data['X2'])\n",
        "sample_outliers_X3 = detect_outliers_zscore(data['X3'])\n",
        "sample_outliers_Y = detect_outliers_zscore(data['Y'])\n",
        "print(\"Outliers in X1 column from Z-scores method: \", sample_outliers_X1)\n",
        "print(\"Outliers in X2 column from Z-scores method: \", sample_outliers_X2)\n",
        "print(\"Outliers in X3 column from Z-scores method: \", sample_outliers_X3)\n",
        "print(\"Outliers in Y column from Z-scores method: \", sample_outliers_Y)"
      ],
      "execution_count": 5,
      "outputs": [
        {
          "output_type": "stream",
          "name": "stdout",
          "text": [
            "Outliers in X1 column from Z-scores method:  []\n",
            "Outliers in X2 column from Z-scores method:  []\n",
            "Outliers in X3 column from Z-scores method:  []\n",
            "Outliers in Y column from Z-scores method:  []\n"
          ]
        }
      ]
    },
    {
      "cell_type": "markdown",
      "metadata": {
        "id": "Vay2R8ZlNc5q"
      },
      "source": [
        "## Missing Values Treatment"
      ]
    },
    {
      "cell_type": "code",
      "metadata": {
        "colab": {
          "base_uri": "https://localhost:8080/"
        },
        "id": "I1aGajBjNKvh",
        "outputId": "611758fd-0725-4119-fa77-27a0421a04ce"
      },
      "source": [
        "print(data.isnull().sum())"
      ],
      "execution_count": 6,
      "outputs": [
        {
          "output_type": "stream",
          "name": "stdout",
          "text": [
            "X1    0\n",
            "X2    1\n",
            "X3    2\n",
            "Y     3\n",
            "dtype: int64\n"
          ]
        }
      ]
    },
    {
      "cell_type": "code",
      "metadata": {
        "colab": {
          "base_uri": "https://localhost:8080/",
          "height": 417
        },
        "id": "xEykIsJINfHA",
        "outputId": "85869f4f-970e-41e6-b18c-1581100543c3"
      },
      "source": [
        "m1=data['X1'].mean()\n",
        "m2=data['X2'].mean()\n",
        "m3=data['X3'].mean()\n",
        "m4=data['Y'].mean()\n",
        "data['X1'].fillna(value=m1, inplace=True)\n",
        "data['X2'].fillna(value=m2, inplace=True)\n",
        "data['X3'].fillna(value=m3, inplace=True)\n",
        "data['Y'].fillna(value=m4, inplace=True)\n",
        "data"
      ],
      "execution_count": 7,
      "outputs": [
        {
          "output_type": "execute_result",
          "data": {
            "text/html": [
              "<div>\n",
              "<style scoped>\n",
              "    .dataframe tbody tr th:only-of-type {\n",
              "        vertical-align: middle;\n",
              "    }\n",
              "\n",
              "    .dataframe tbody tr th {\n",
              "        vertical-align: top;\n",
              "    }\n",
              "\n",
              "    .dataframe thead th {\n",
              "        text-align: right;\n",
              "    }\n",
              "</style>\n",
              "<table border=\"1\" class=\"dataframe\">\n",
              "  <thead>\n",
              "    <tr style=\"text-align: right;\">\n",
              "      <th></th>\n",
              "      <th>X1</th>\n",
              "      <th>X2</th>\n",
              "      <th>X3</th>\n",
              "      <th>Y</th>\n",
              "    </tr>\n",
              "  </thead>\n",
              "  <tbody>\n",
              "    <tr>\n",
              "      <th>0</th>\n",
              "      <td>5551.82208</td>\n",
              "      <td>4983.171840</td>\n",
              "      <td>4888.396800</td>\n",
              "      <td>5072.958720</td>\n",
              "    </tr>\n",
              "    <tr>\n",
              "      <th>1</th>\n",
              "      <td>4983.17184</td>\n",
              "      <td>4888.396800</td>\n",
              "      <td>5072.958720</td>\n",
              "      <td>5196.259800</td>\n",
              "    </tr>\n",
              "    <tr>\n",
              "      <th>2</th>\n",
              "      <td>4888.39680</td>\n",
              "      <td>5072.958720</td>\n",
              "      <td>5196.259800</td>\n",
              "      <td>5641.297200</td>\n",
              "    </tr>\n",
              "    <tr>\n",
              "      <th>3</th>\n",
              "      <td>5072.95872</td>\n",
              "      <td>5196.259800</td>\n",
              "      <td>5641.297200</td>\n",
              "      <td>7153.177320</td>\n",
              "    </tr>\n",
              "    <tr>\n",
              "      <th>4</th>\n",
              "      <td>5196.25980</td>\n",
              "      <td>5641.297200</td>\n",
              "      <td>7153.177320</td>\n",
              "      <td>7849.805040</td>\n",
              "    </tr>\n",
              "    <tr>\n",
              "      <th>...</th>\n",
              "      <td>...</td>\n",
              "      <td>...</td>\n",
              "      <td>...</td>\n",
              "      <td>...</td>\n",
              "    </tr>\n",
              "    <tr>\n",
              "      <th>2179</th>\n",
              "      <td>4626.51840</td>\n",
              "      <td>4567.907520</td>\n",
              "      <td>4723.631640</td>\n",
              "      <td>5150.275200</td>\n",
              "    </tr>\n",
              "    <tr>\n",
              "      <th>2180</th>\n",
              "      <td>4567.90752</td>\n",
              "      <td>4723.631640</td>\n",
              "      <td>5150.275200</td>\n",
              "      <td>6938.374680</td>\n",
              "    </tr>\n",
              "    <tr>\n",
              "      <th>2181</th>\n",
              "      <td>4723.63164</td>\n",
              "      <td>5150.275200</td>\n",
              "      <td>6938.374680</td>\n",
              "      <td>6029.345387</td>\n",
              "    </tr>\n",
              "    <tr>\n",
              "      <th>2182</th>\n",
              "      <td>5150.27520</td>\n",
              "      <td>6938.374680</td>\n",
              "      <td>6028.822496</td>\n",
              "      <td>6029.345387</td>\n",
              "    </tr>\n",
              "    <tr>\n",
              "      <th>2183</th>\n",
              "      <td>6938.37468</td>\n",
              "      <td>6028.343499</td>\n",
              "      <td>6028.822496</td>\n",
              "      <td>6029.345387</td>\n",
              "    </tr>\n",
              "  </tbody>\n",
              "</table>\n",
              "<p>2184 rows × 4 columns</p>\n",
              "</div>"
            ],
            "text/plain": [
              "              X1           X2           X3            Y\n",
              "0     5551.82208  4983.171840  4888.396800  5072.958720\n",
              "1     4983.17184  4888.396800  5072.958720  5196.259800\n",
              "2     4888.39680  5072.958720  5196.259800  5641.297200\n",
              "3     5072.95872  5196.259800  5641.297200  7153.177320\n",
              "4     5196.25980  5641.297200  7153.177320  7849.805040\n",
              "...          ...          ...          ...          ...\n",
              "2179  4626.51840  4567.907520  4723.631640  5150.275200\n",
              "2180  4567.90752  4723.631640  5150.275200  6938.374680\n",
              "2181  4723.63164  5150.275200  6938.374680  6029.345387\n",
              "2182  5150.27520  6938.374680  6028.822496  6029.345387\n",
              "2183  6938.37468  6028.343499  6028.822496  6029.345387\n",
              "\n",
              "[2184 rows x 4 columns]"
            ]
          },
          "metadata": {},
          "execution_count": 7
        }
      ]
    },
    {
      "cell_type": "markdown",
      "metadata": {
        "id": "zFx8Yuo8QZtn"
      },
      "source": [
        "# Min and max values"
      ]
    },
    {
      "cell_type": "code",
      "metadata": {
        "colab": {
          "base_uri": "https://localhost:8080/"
        },
        "id": "D4SWpfP6OInP",
        "outputId": "422406d9-cacf-444b-8492-8cc5aa47cb49"
      },
      "source": [
        "x1_min=data['X1'].min()\n",
        "x1_max=data['X1'].max()\n",
        "x2_min=data['X2'].min()\n",
        "x2_max=data['X2'].max()\n",
        "x3_min=data['X3'].min()\n",
        "x3_max=data['X3'].max()\n",
        "y_min=data['Y'].min()\n",
        "y_max=data['Y'].max()\n",
        "print(x1_min, x1_max, x2_min, x2_max, x3_min, x3_max, y_min, y_max )"
      ],
      "execution_count": 8,
      "outputs": [
        {
          "output_type": "stream",
          "name": "stdout",
          "text": [
            "3377.9196 8841.66948 3377.9196 8841.66948 3377.9196 8841.66948 3377.9196 8841.66948\n"
          ]
        }
      ]
    },
    {
      "cell_type": "markdown",
      "metadata": {
        "id": "H85Vjk3jQvnU"
      },
      "source": [
        "# Normalization"
      ]
    },
    {
      "cell_type": "code",
      "metadata": {
        "id": "KD7FVGd4QuXK"
      },
      "source": [
        "\n",
        "from sklearn.preprocessing import MinMaxScaler\n",
        "X1 = np.array(data['X1']).reshape(-1,1)\n",
        "scaler = MinMaxScaler()\n",
        "scaler.fit(X1)\n",
        "X1_scaled = scaler.transform(X1)\n",
        "data['X1'] = X1_scaled.reshape(1,-1)[0]\n",
        "\n",
        "X2 = np.array(data['X2']).reshape(-1,1)\n",
        "scaler = MinMaxScaler()\n",
        "scaler.fit(X2)\n",
        "X2_scaled = scaler.transform(X2)\n",
        "data['X2'] = X2_scaled.reshape(1,-1)[0]\n",
        "\n",
        "X3 = np.array(data['X3']).reshape(-1,1)\n",
        "scaler = MinMaxScaler()\n",
        "scaler.fit(X3)\n",
        "X3_scaled = scaler.transform(X3)\n",
        "data['X3'] = X3_scaled.reshape(1,-1)[0]"
      ],
      "execution_count": 9,
      "outputs": []
    },
    {
      "cell_type": "code",
      "metadata": {
        "id": "GG5e7EEBRddH"
      },
      "source": [
        "Y1 = np.array(data['Y']).reshape(-1,1)\n",
        "scaler = MinMaxScaler()\n",
        "scaler.fit(Y1)\n",
        "Y_scaled = scaler.transform(Y1)\n",
        "data['Y'] = Y_scaled.reshape(1,-1)[0]"
      ],
      "execution_count": 10,
      "outputs": []
    },
    {
      "cell_type": "markdown",
      "metadata": {
        "id": "RrDDPeReNrqB"
      },
      "source": [
        "## Data Split"
      ]
    },
    {
      "cell_type": "code",
      "metadata": {
        "colab": {
          "base_uri": "https://localhost:8080/"
        },
        "id": "l_XqjYV0NnvY",
        "outputId": "77b4ee31-18fd-42ed-bd9e-0f667877b951"
      },
      "source": [
        "from sklearn.model_selection import train_test_split\n",
        "dataframe = data.values\n",
        "X, y = dataframe[:, :-1], dataframe[:, -1]\n",
        "x_train, x_test, y_train, y_test = train_test_split(X, y, test_size = 0.10, random_state = 10)\n",
        "x_train"
      ],
      "execution_count": 11,
      "outputs": [
        {
          "output_type": "execute_result",
          "data": {
            "text/plain": [
              "array([[0.44840375, 0.46706228, 0.50332373],\n",
              "       [0.6971841 , 0.82468403, 0.68785484],\n",
              "       [0.72206214, 0.62565975, 0.37613763],\n",
              "       ...,\n",
              "       [0.61011098, 0.44563636, 0.4770192 ],\n",
              "       [0.22641294, 0.17160709, 0.20062195],\n",
              "       [0.4363071 , 0.41339762, 0.37793501]])"
            ]
          },
          "metadata": {},
          "execution_count": 11
        }
      ]
    },
    {
      "cell_type": "markdown",
      "metadata": {
        "id": "dCnPyjFPRYHe"
      },
      "source": [
        "# Initialization"
      ]
    },
    {
      "cell_type": "code",
      "metadata": {
        "id": "BaF_C1xXPu8_"
      },
      "source": [
        "m1=random.uniform(-10,10)\n",
        "m2=random.uniform(-10,10)\n",
        "m3=random.uniform(-10,10)\n",
        "c=random.uniform(-10,10)\n",
        "eta=0.1\n",
        "max_iter=10000"
      ],
      "execution_count": 12,
      "outputs": []
    },
    {
      "cell_type": "markdown",
      "metadata": {
        "id": "MvmX_8H2QUTw"
      },
      "source": [
        "## Gradient Calculation"
      ]
    },
    {
      "cell_type": "code",
      "metadata": {
        "id": "yL6oLWXVQSAw"
      },
      "source": [
        "def gradient(m1,m2,m3,c,x1,x2,x3,y):\n",
        "  m1_deriv=-1*(y-m1*x1-m2*x2-m3*x3-c)*x1\n",
        "  m2_deriv=-1*(y-m1*x1-m2*x2-m3*x3-c)*x2\n",
        "  m3_deriv=-1*(y-m1*x1-m2*x2-m3*x3-c)*x3\n",
        "  c_deriv= -1*(y-m1*x1-m2*x2-m3*x3-c)\n",
        "  return m1_deriv,m2_deriv,m3_deriv,c_deriv"
      ],
      "execution_count": 13,
      "outputs": []
    },
    {
      "cell_type": "markdown",
      "metadata": {
        "id": "pU2v0IcjQnrA"
      },
      "source": [
        "## Training Using Stochastic Gradient Descent Optimizer"
      ]
    },
    {
      "cell_type": "code",
      "metadata": {
        "colab": {
          "base_uri": "https://localhost:8080/"
        },
        "id": "G3Sn293XQkr_",
        "outputId": "f197e92a-c9cf-4487-8b9c-6419d118960a"
      },
      "source": [
        "for iter in range(max_iter):\n",
        "  for sample in range(x_train.shape[0]):\n",
        "    del_m1,del_m2,del_m3,del_c=gradient(m1,m2,m3,c, x_train[sample,0],x_train[sample,1],x_train[sample,2],y_train[sample])\n",
        "    m1=m1-eta*del_m1\n",
        "    m2=m2-eta*del_m2\n",
        "    m3=m3-eta*del_m3\n",
        "    c=c-eta*del_c\n",
        "print(f'Model parameters m1=', m1,'m2=',m2,'m3=',m3,'and c=',c)"
      ],
      "execution_count": 15,
      "outputs": [
        {
          "output_type": "stream",
          "name": "stdout",
          "text": [
            "Model parameters m1= -0.2063114917803206 m2= 0.03313104115540776 m3= 0.8517675102387888 and c= 0.14590702006987477\n"
          ]
        }
      ]
    },
    {
      "cell_type": "markdown",
      "metadata": {
        "id": "9jrwIBHCTgio"
      },
      "source": [
        "# Model Prediction on Training Data\n",
        "\n",
        "\n",
        "\n"
      ]
    },
    {
      "cell_type": "code",
      "metadata": {
        "id": "Q3wUlqzpRBnP"
      },
      "source": [
        "y_pred_train = []\n",
        "for sample in range(x_train.shape[0]):\n",
        "  x1=x_train[sample,0]\n",
        "  x2=x_train[sample,1]\n",
        "  x3=x_train[sample,2]\n",
        "  y=y_train[sample]\n",
        "  y_p_tr = (m1 * x1) + (m2 * x2) + (m3*x3) + c \n",
        "  y_pred_train.append(y_p_tr)\n",
        "y_pred_train = np.array(y_pred_train)"
      ],
      "execution_count": 16,
      "outputs": []
    },
    {
      "cell_type": "markdown",
      "metadata": {
        "id": "EzaQYrgiT_6a"
      },
      "source": [
        "# Model Prediction on Testing Data\n",
        "\n",
        "\n",
        "\n"
      ]
    },
    {
      "cell_type": "code",
      "metadata": {
        "id": "kQ1WBIQiRgq1"
      },
      "source": [
        "y_pred_test = []\n",
        "for sample in range(x_test.shape[0]):\n",
        "  x1=x_test[sample,0]\n",
        "  x2=x_test[sample,1]\n",
        "  x3=x_test[sample,2]\n",
        "  y=y_test[sample]\n",
        "  y_p_te = (m1 * x1) + (m2 * x2) + (m3*x3) + c \n",
        "  y_pred_test.append(y_p_te)\n",
        "y_pred_test = np.array(y_pred_test)"
      ],
      "execution_count": 17,
      "outputs": []
    },
    {
      "cell_type": "markdown",
      "metadata": {
        "id": "uuV3M4SuUURx"
      },
      "source": [
        "# Error Metrics Calculation"
      ]
    },
    {
      "cell_type": "code",
      "metadata": {
        "colab": {
          "base_uri": "https://localhost:8080/"
        },
        "id": "NyrBxCDiUQI_",
        "outputId": "7ffb81a1-1ef6-454d-ea73-9fdb14a9b6f7"
      },
      "source": [
        "\n",
        "import math\n",
        "from sklearn.metrics import mean_squared_error \n",
        "from sklearn.metrics import mean_absolute_error\n",
        "\n",
        "\n",
        "#Training Accuracies\n",
        "rmse = math.sqrt(mean_squared_error(y_train, y_pred_train)) \n",
        "print('Root mean square error', rmse) \n",
        "mse = (mean_squared_error(y_train, y_pred_train)) \n",
        "print('Mean square error', mse) \n",
        "mae=mean_absolute_error(y_train, y_pred_train)\n",
        "print('Mean absolute error', mae)"
      ],
      "execution_count": 18,
      "outputs": [
        {
          "output_type": "stream",
          "name": "stdout",
          "text": [
            "Root mean square error 0.11641604321824466\n",
            "Mean square error 0.013552695118592209\n",
            "Mean absolute error 0.08034661092624044\n"
          ]
        }
      ]
    },
    {
      "cell_type": "code",
      "metadata": {
        "colab": {
          "base_uri": "https://localhost:8080/"
        },
        "id": "f-QmKiGLUYRW",
        "outputId": "2540bc29-8599-4c9f-cde1-81a676e80f88"
      },
      "source": [
        "#Testing Accuracies\n",
        "mse = math.sqrt(mean_squared_error(y_test, y_pred_test)) \n",
        "print('Root mean square error', mse) \n",
        "mse = (mean_squared_error(y_test, y_pred_test)) \n",
        "print('Mean square error', mse) \n",
        "mae=mean_absolute_error(y_test, y_pred_test)\n",
        "print('Mean absolute error', mae)"
      ],
      "execution_count": 19,
      "outputs": [
        {
          "output_type": "stream",
          "name": "stdout",
          "text": [
            "Root mean square error 0.12655266836682572\n",
            "Mean square error 0.016015577870763773\n",
            "Mean absolute error 0.08626953972716382\n"
          ]
        }
      ]
    },
    {
      "cell_type": "markdown",
      "metadata": {
        "id": "0XuYEd0XUeh4"
      },
      "source": [
        "# Deployment"
      ]
    },
    {
      "cell_type": "code",
      "metadata": {
        "id": "xwC6Ru81UbP-",
        "colab": {
          "base_uri": "https://localhost:8080/"
        },
        "outputId": "8bb5fe52-dbff-43fd-d7cf-4e69bf8e9b35"
      },
      "source": [
        "X1=input('Enter the [t-3] load value (3 hours before current time ')\n",
        "X2=input('Enter the [t-2] load value (2 hours before current time ')\n",
        "X3=input('Enter the [t-1] load value (1 hour before current time ')\n",
        "X1=float(X1)\n",
        "X2=float(X2)\n",
        "X3=float(X3)  \n",
        "print('X1=',X1)\n",
        "print('X2=',X2)\n",
        "print('X3=',X3)\n",
        "x1_nor=(X1 - x1_min)/(x1_max - x1_min)\n",
        "x2_nor=(X2 - x2_min)/(x2_max - x2_min)\n",
        "x3_nor=(X3 - x3_min)/(x3_max - x3_min)\n",
        "y_nor = m1*x1_nor + m2*x2_nor + m3*x3_nor + c\n",
        "Y = y_nor * (y_max-y_min) + y_min\n",
        "print('Load value at [t] present time = ',Y)"
      ],
      "execution_count": 20,
      "outputs": [
        {
          "output_type": "stream",
          "name": "stdout",
          "text": [
            "Enter the [t-3] load value (3 hours before current time 2\n",
            "Enter the [t-2] load value (2 hours before current time 3\n",
            "Enter the [t-1] load value (1 hour before current time 1\n",
            "X1= 2.0\n",
            "X2= 3.0\n",
            "X3= 1.0\n",
            "Load value at [t] present time =  1883.4450720720001\n"
          ]
        }
      ]
    },
    {
      "cell_type": "markdown",
      "metadata": {
        "id": "yXwa1qdkoS85"
      },
      "source": [
        "# Thank You"
      ]
    }
  ]
}