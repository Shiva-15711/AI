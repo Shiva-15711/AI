{
  "nbformat": 4,
  "nbformat_minor": 0,
  "metadata": {
    "colab": {
      "name": "Assignment3.ipynb",
      "provenance": [],
      "authorship_tag": "ABX9TyPvodoenM1FKVDjN52VrdAT",
      "include_colab_link": true
    },
    "kernelspec": {
      "name": "python3",
      "display_name": "Python 3"
    },
    "language_info": {
      "name": "python"
    }
  },
  "cells": [
    {
      "cell_type": "markdown",
      "metadata": {
        "id": "view-in-github",
        "colab_type": "text"
      },
      "source": [
        "<a href=\"https://colab.research.google.com/github/Shiva-15711/AI/blob/main/Assignment3.ipynb\" target=\"_parent\"><img src=\"https://colab.research.google.com/assets/colab-badge.svg\" alt=\"Open In Colab\"/></a>"
      ]
    },
    {
      "cell_type": "code",
      "metadata": {
        "colab": {
          "base_uri": "https://localhost:8080/"
        },
        "id": "2_30JDqU4b8q",
        "outputId": "5177f0f3-b642-4bed-8ccf-3a9ca7b1b644"
      },
      "source": [
        "import numpy as np\n",
        "import math\n",
        "x=np.random.uniform(-10,10)\n",
        "y=np.random.uniform(-10,10)\n",
        "eta=0.0002\n",
        "epochs=100\n",
        "iter=0\n",
        "while iter<=epochs:\n",
        "  grad_x=6*x\n",
        "  grad_y = -5*(math.exp(-y))\n",
        "  delx = -eta * grad_x\n",
        "  dely = -eta * grad_y\n",
        "  x=x+delx\n",
        "  y=y+dely\n",
        "  iter=iter+1\n",
        "obj =  3*(x*2) + 5*(math.exp(-y)) + 10\n",
        "print('objective function has minimum value at', obj, 'where x = ', round(x), 'and y = ', round(y))"
      ],
      "execution_count": 3,
      "outputs": [
        {
          "output_type": "stream",
          "name": "stdout",
          "text": [
            "objective function has minimum value at 45.539530021909286 where x =  6 and y =  8\n"
          ]
        }
      ]
    }
  ]
}