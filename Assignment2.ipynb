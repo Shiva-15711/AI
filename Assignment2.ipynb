{
  "nbformat": 4,
  "nbformat_minor": 0,
  "metadata": {
    "colab": {
      "name": "Assignment2.ipynb",
      "provenance": [],
      "authorship_tag": "ABX9TyMDhDYhKO+PtcMQM7iCPRF0",
      "include_colab_link": true
    },
    "kernelspec": {
      "name": "python3",
      "display_name": "Python 3"
    },
    "language_info": {
      "name": "python"
    }
  },
  "cells": [
    {
      "cell_type": "markdown",
      "metadata": {
        "id": "view-in-github",
        "colab_type": "text"
      },
      "source": [
        "<a href=\"https://colab.research.google.com/github/Shiva-15711/AI/blob/main/Assignment2.ipynb\" target=\"_parent\"><img src=\"https://colab.research.google.com/assets/colab-badge.svg\" alt=\"Open In Colab\"/></a>"
      ]
    },
    {
      "cell_type": "code",
      "metadata": {
        "colab": {
          "base_uri": "https://localhost:8080/"
        },
        "id": "9dYnIvXBu8dj",
        "outputId": "349f58ae-8606-452b-cf43-e745d54ab94b"
      },
      "source": [
        "import numpy as np\n",
        "x = np.random.uniform(-20,-20)\n",
        "eta = 0.001\n",
        "iter_max = 200\n",
        "iter = 1\n",
        "while iter <= iter_max:\n",
        "  grad_x = 4*(x**3) + 6*x\n",
        "  del_x = -eta * grad_x\n",
        "  x = x + del_x\n",
        "  iter = iter + 1\n",
        "obj =  (x*4) + 3*(x**2) + 10\n",
        "print('Objective function value = ',round(obj))"
      ],
      "execution_count": 3,
      "outputs": [
        {
          "output_type": "stream",
          "name": "stdout",
          "text": [
            "Objective function value =  12\n"
          ]
        }
      ]
    }
  ]
}