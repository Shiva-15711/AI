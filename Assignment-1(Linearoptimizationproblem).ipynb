{
  "nbformat": 4,
  "nbformat_minor": 0,
  "metadata": {
    "colab": {
      "name": "Linearoptimizationproblem.ipynb",
      "provenance": [],
      "authorship_tag": "ABX9TyNR9Ivd5tgtyy7xZqjdCC+a",
      "include_colab_link": true
    },
    "kernelspec": {
      "name": "python3",
      "display_name": "Python 3"
    },
    "language_info": {
      "name": "python"
    }
  },
  "cells": [
    {
      "cell_type": "markdown",
      "metadata": {
        "id": "view-in-github",
        "colab_type": "text"
      },
      "source": [
        "<a href=\"https://colab.research.google.com/github/Shiva-15711/AI/blob/main/Linearoptimizationproblem.ipynb\" target=\"_parent\"><img src=\"https://colab.research.google.com/assets/colab-badge.svg\" alt=\"Open In Colab\"/></a>"
      ]
    },
    {
      "cell_type": "code",
      "metadata": {
        "colab": {
          "base_uri": "https://localhost:8080/"
        },
        "id": "76V9eZvc7PqZ",
        "outputId": "6b8f704b-0d78-4864-cf71-f56bbea23938"
      },
      "source": [
        "from scipy.optimize import linprog\n",
        "objective_function=[-50,-120]                         #Objective function matrix\n",
        "A_inequality_constraints=[[10,30],[7000,2000],[1,1]]  #Matrix of inequality constraints coefficients\n",
        "b_inequality_constraints=[1200,700000,110]            #Matrix of inequality constraints constants\n",
        "Boundaries=[(0,float('inf')),(0,float('inf'))]        #Limits of X,Y\n",
        "Optimized=linprog(c=objective_function, A_ub=A_inequality_constraints, b_ub=b_inequality_constraints, A_eq=None, b_eq=None, bounds=Boundaries, method=\"Simplex\")\n",
        "Optimized.x\n",
        "print('Number of hectares for wheat crops=',round(Optimized.x[0]))\n",
        "print('Number of hectares for barley crops=',round(Optimized.x[1]))\n",
        "print('optimal solution for max objective function=',round((Optimized.x[0]*(50) +(Optimized.x[1]*(120)))))"
      ],
      "execution_count": 5,
      "outputs": [
        {
          "output_type": "stream",
          "text": [
            "Number of hectares for wheat crops= 98\n",
            "Number of hectares for barley crops= 7\n",
            "optimal solution for max objective function= 5779\n"
          ],
          "name": "stdout"
        }
      ]
    }
  ]
}
