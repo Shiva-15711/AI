{
  "nbformat": 4,
  "nbformat_minor": 0,
  "metadata": {
    "colab": {
      "name": "Ground water_Linear Regression_Assignment 4",
      "provenance": [],
      "collapsed_sections": [],
      "include_colab_link": true
    },
    "kernelspec": {
      "display_name": "Python 3",
      "name": "python3"
    },
    "language_info": {
      "name": "python"
    }
  },
  "cells": [
    {
      "cell_type": "markdown",
      "metadata": {
        "id": "view-in-github",
        "colab_type": "text"
      },
      "source": [
        "<a href=\"https://colab.research.google.com/github/Shiva-15711/AI/blob/main/Ground_water_Linear_Regression_Assignment_4.ipynb\" target=\"_parent\"><img src=\"https://colab.research.google.com/assets/colab-badge.svg\" alt=\"Open In Colab\"/></a>"
      ]
    },
    {
      "cell_type": "markdown",
      "metadata": {
        "id": "j4C1x-DM5E2j"
      },
      "source": [
        "Mount Google drive"
      ]
    },
    {
      "cell_type": "code",
      "metadata": {
        "colab": {
          "base_uri": "https://localhost:8080/"
        },
        "id": "_h8L5vu-5ITB",
        "outputId": "0a7f2135-6f77-4510-8669-f944e2f9b1f1"
      },
      "source": [
        "from google.colab import drive\n",
        "drive.mount('/content/drive')"
      ],
      "execution_count": 10,
      "outputs": [
        {
          "output_type": "stream",
          "name": "stdout",
          "text": [
            "Drive already mounted at /content/drive; to attempt to forcibly remount, call drive.mount(\"/content/drive\", force_remount=True).\n"
          ]
        }
      ]
    },
    {
      "cell_type": "markdown",
      "metadata": {
        "id": "ffVcQEKe5UFb"
      },
      "source": [
        "Import Libraries"
      ]
    },
    {
      "cell_type": "code",
      "metadata": {
        "id": "5wZUFuNN5WYt"
      },
      "source": [
        "import numpy as np\n",
        "import pandas as pd\n",
        "import random\n",
        "import matplotlib.pyplot as plt"
      ],
      "execution_count": null,
      "outputs": []
    },
    {
      "cell_type": "markdown",
      "metadata": {
        "id": "74xQaql45X2H"
      },
      "source": [
        "Load Data"
      ]
    },
    {
      "cell_type": "code",
      "metadata": {
        "colab": {
          "base_uri": "https://localhost:8080/",
          "height": 203
        },
        "id": "VioliIN25a3x",
        "outputId": "aa9cab1e-fedd-41f8-f01b-d42c8529679a"
      },
      "source": [
        "data = pd.read_csv('/content/drive/MyDrive/AI data/slr09.csv')\n",
        "data.head()"
      ],
      "execution_count": 11,
      "outputs": [
        {
          "output_type": "execute_result",
          "data": {
            "text/html": [
              "<div>\n",
              "<style scoped>\n",
              "    .dataframe tbody tr th:only-of-type {\n",
              "        vertical-align: middle;\n",
              "    }\n",
              "\n",
              "    .dataframe tbody tr th {\n",
              "        vertical-align: top;\n",
              "    }\n",
              "\n",
              "    .dataframe thead th {\n",
              "        text-align: right;\n",
              "    }\n",
              "</style>\n",
              "<table border=\"1\" class=\"dataframe\">\n",
              "  <thead>\n",
              "    <tr style=\"text-align: right;\">\n",
              "      <th></th>\n",
              "      <th>X</th>\n",
              "      <th>Y</th>\n",
              "    </tr>\n",
              "  </thead>\n",
              "  <tbody>\n",
              "    <tr>\n",
              "      <th>0</th>\n",
              "      <td>7.6</td>\n",
              "      <td>157</td>\n",
              "    </tr>\n",
              "    <tr>\n",
              "      <th>1</th>\n",
              "      <td>7.1</td>\n",
              "      <td>174</td>\n",
              "    </tr>\n",
              "    <tr>\n",
              "      <th>2</th>\n",
              "      <td>8.2</td>\n",
              "      <td>175</td>\n",
              "    </tr>\n",
              "    <tr>\n",
              "      <th>3</th>\n",
              "      <td>7.5</td>\n",
              "      <td>188</td>\n",
              "    </tr>\n",
              "    <tr>\n",
              "      <th>4</th>\n",
              "      <td>7.4</td>\n",
              "      <td>171</td>\n",
              "    </tr>\n",
              "  </tbody>\n",
              "</table>\n",
              "</div>"
            ],
            "text/plain": [
              "     X    Y\n",
              "0  7.6  157\n",
              "1  7.1  174\n",
              "2  8.2  175\n",
              "3  7.5  188\n",
              "4  7.4  171"
            ]
          },
          "metadata": {},
          "execution_count": 11
        }
      ]
    },
    {
      "cell_type": "markdown",
      "metadata": {
        "id": "S9KvYRYo5hzU"
      },
      "source": [
        "Outliers Treatment"
      ]
    },
    {
      "cell_type": "code",
      "metadata": {
        "id": "kTy76WOP5ks1"
      },
      "source": [
        "outliers = []\n",
        "def detect_outliers_zscore(data):\n",
        "  thres = 3\n",
        "  mean = np.mean(data)\n",
        "  std = np.std(data)\n",
        "  for i in data:\n",
        "    z_score = (i - mean)/std\n",
        "    if(np.abs(z_score) > thres):\n",
        "      outliers.append(i)\n",
        "  return outliers"
      ],
      "execution_count": 12,
      "outputs": []
    },
    {
      "cell_type": "code",
      "metadata": {
        "colab": {
          "base_uri": "https://localhost:8080/"
        },
        "id": "TnRnnDZd5pm8",
        "outputId": "55ebeed1-5014-40ea-c284-23fd0ad42989"
      },
      "source": [
        "sample_outliers_X = detect_outliers_zscore(data['X'])\n",
        "sample_outliers_Y = detect_outliers_zscore(data['Y'])\n",
        "print(\"Outliers in X column from Z-scores method: \", sample_outliers_X)\n",
        "print(\"Outliers in Y column from Z-scores method: \", sample_outliers_Y)"
      ],
      "execution_count": 13,
      "outputs": [
        {
          "output_type": "stream",
          "name": "stdout",
          "text": [
            "Outliers in X column from Z-scores method:  []\n",
            "Outliers in Y column from Z-scores method:  []\n"
          ]
        }
      ]
    },
    {
      "cell_type": "markdown",
      "metadata": {
        "id": "iXWr4V0s5uy6"
      },
      "source": [
        "Missing Values Treatment"
      ]
    },
    {
      "cell_type": "code",
      "metadata": {
        "colab": {
          "base_uri": "https://localhost:8080/"
        },
        "id": "T99xrFeO5xbe",
        "outputId": "a6529078-4b86-4d6c-9113-46d76a7bc227"
      },
      "source": [
        "print(data.isnull().sum())"
      ],
      "execution_count": 14,
      "outputs": [
        {
          "output_type": "stream",
          "name": "stdout",
          "text": [
            "X    0\n",
            "Y    0\n",
            "dtype: int64\n"
          ]
        }
      ]
    },
    {
      "cell_type": "code",
      "metadata": {
        "id": "hXf9ETrH5y_1"
      },
      "source": [
        "m1=data['X'].mean()\n",
        "m2=data['Y'].mean()\n",
        "data['X'].fillna(value=m1, inplace=True)\n",
        "data['Y'].fillna(value=m2, inplace=True)"
      ],
      "execution_count": 15,
      "outputs": []
    },
    {
      "cell_type": "markdown",
      "metadata": {
        "id": "A2nvJh2Pu0fB"
      },
      "source": [
        "Min and Max values"
      ]
    },
    {
      "cell_type": "code",
      "metadata": {
        "colab": {
          "base_uri": "https://localhost:8080/"
        },
        "id": "ZxZws9E0u2iv",
        "outputId": "00c12a18-7e79-4073-a6f8-eac90b4fc786"
      },
      "source": [
        "x_min = data['X'].min()\n",
        "x_max = data['X'].max()\n",
        "y_min = data['Y'].min() \n",
        "y_max = data['Y'].max()\n",
        "print(x_min, x_max, y_min, y_max) "
      ],
      "execution_count": 16,
      "outputs": [
        {
          "output_type": "stream",
          "name": "stdout",
          "text": [
            "6.7 8.8 35 262\n"
          ]
        }
      ]
    },
    {
      "cell_type": "markdown",
      "metadata": {
        "id": "SGhh1DRvmGCt"
      },
      "source": [
        "Normalisation"
      ]
    },
    {
      "cell_type": "code",
      "metadata": {
        "id": "Bz-cKusimIqk"
      },
      "source": [
        "from sklearn.preprocessing import MinMaxScaler\n",
        "X1 = np.array(data['X']).reshape(-1,1)\n",
        "scaler = MinMaxScaler()\n",
        "scaler.fit(X1)\n",
        "X_scaled = scaler.transform(X1)\n",
        "data['X'] = X_scaled.reshape(1,-1)[0]"
      ],
      "execution_count": 17,
      "outputs": []
    },
    {
      "cell_type": "code",
      "metadata": {
        "id": "Hb9fxY1xsi4C"
      },
      "source": [
        "Y1 = np.array(data['Y']).reshape(-1,1)\n",
        "scaler = MinMaxScaler()\n",
        "scaler.fit(Y1)\n",
        "Y_scaled = scaler.transform(Y1)\n",
        "data['Y'] = Y_scaled.reshape(1,-1)[0]"
      ],
      "execution_count": 19,
      "outputs": []
    },
    {
      "cell_type": "markdown",
      "metadata": {
        "id": "-9KffNnW55uq"
      },
      "source": [
        "Data Split"
      ]
    },
    {
      "cell_type": "code",
      "metadata": {
        "id": "FDvQQhd357fM"
      },
      "source": [
        "from sklearn.model_selection import train_test_split\n",
        "x_train, x_test, y_train, y_test = train_test_split(data.X, data.Y, test_size = 0.10, random_state = 10)"
      ],
      "execution_count": 20,
      "outputs": []
    },
    {
      "cell_type": "markdown",
      "metadata": {
        "id": "jjZoaL6U6BmN"
      },
      "source": [
        "Initialisation"
      ]
    },
    {
      "cell_type": "code",
      "metadata": {
        "id": "JGpxHOTT6C5W"
      },
      "source": [
        "m = random.uniform(-10, 10)\n",
        "c = random.uniform(-10, 10)\n",
        "eta = 0.9\n",
        "epochs = 2000"
      ],
      "execution_count": 21,
      "outputs": []
    },
    {
      "cell_type": "markdown",
      "metadata": {
        "id": "gnEmjTWw6GIu"
      },
      "source": [
        "Gradient Calculation"
      ]
    },
    {
      "cell_type": "code",
      "metadata": {
        "id": "CusBsz3E6IQg"
      },
      "source": [
        "def gradient(m, c, x, y):\n",
        "  m_deriv = -1*(y - m*x -c)*x;\n",
        "  c_deriv = -1*(y - m*x - c)\n",
        "  return m_deriv, c_deriv"
      ],
      "execution_count": 22,
      "outputs": []
    },
    {
      "cell_type": "markdown",
      "metadata": {
        "id": "CT2HVI916KZj"
      },
      "source": [
        "Training the Model"
      ]
    },
    {
      "cell_type": "code",
      "metadata": {
        "colab": {
          "base_uri": "https://localhost:8080/"
        },
        "id": "g-04dF_P6L-Y",
        "outputId": "4364acd1-dbf7-4db3-d77a-fd4f0e34c088"
      },
      "source": [
        "for iter in range(epochs):\n",
        "  for sample in range(x_train.shape[0]):\n",
        "    der_m, der_c = gradient(m, c, x_train.iloc[sample], y_train.iloc[sample])\n",
        "    m = m - eta*der_m\n",
        "    c = c - eta*der_c\n",
        "\n",
        "print('Model Parameters are ', m, c)"
      ],
      "execution_count": 23,
      "outputs": [
        {
          "output_type": "stream",
          "name": "stdout",
          "text": [
            "Model Parameters are  -0.24265760666929886 0.7891381221272105\n"
          ]
        }
      ]
    },
    {
      "cell_type": "markdown",
      "metadata": {
        "id": "f-H08qLpt52o"
      },
      "source": [
        "Model Prediction on training data"
      ]
    },
    {
      "cell_type": "code",
      "metadata": {
        "colab": {
          "base_uri": "https://localhost:8080/"
        },
        "id": "xZ43owAsuBb3",
        "outputId": "14eb5a71-e37e-4867-dfa3-bea032494cc3"
      },
      "source": [
        "y_pred_train = []\n",
        "for i in x_train:\n",
        "  y_p_tr = (m*i) + c\n",
        "  y_pred_train.append(y_p_tr)\n",
        "y_pred_train = np.array(y_pred_train)\n",
        "print(y_pred_train)"
      ],
      "execution_count": 24,
      "outputs": [
        {
          "output_type": "stream",
          "name": "stdout",
          "text": [
            "[0.66203176 0.69669713 0.71980738 0.71980738 0.58114589 0.66203176\n",
            " 0.74291763 0.54648052 0.61581126 0.685142   0.71980738 0.75447275\n",
            " 0.74291763 0.65047663 0.59270101 0.70825225 0.62736638 0.62736638\n",
            " 0.78913812 0.71980738 0.74291763 0.66203176 0.58114589 0.67358688\n",
            " 0.71980738 0.70825225 0.74291763 0.685142   0.63892151 0.69669713]\n"
          ]
        }
      ]
    },
    {
      "cell_type": "markdown",
      "metadata": {
        "id": "L3hp1taVuGI6"
      },
      "source": [
        "Model Prediction on Testing Data"
      ]
    },
    {
      "cell_type": "code",
      "metadata": {
        "colab": {
          "base_uri": "https://localhost:8080/"
        },
        "id": "5lsADEiZuIw8",
        "outputId": "98ac1146-b7a3-4e19-fc64-e1023236c6dc"
      },
      "source": [
        "y_pred_test = []\n",
        "for i in x_test:\n",
        "  y_pr_te = (m*i) + c\n",
        "  y_pred_test.append(y_pr_te)\n",
        "y_pred_test = np.array(y_pred_test)\n",
        "print(y_pred_test)"
      ],
      "execution_count": 25,
      "outputs": [
        {
          "output_type": "stream",
          "name": "stdout",
          "text": [
            "[0.7313625  0.65047663 0.61581126 0.63892151]\n"
          ]
        }
      ]
    },
    {
      "cell_type": "markdown",
      "metadata": {
        "id": "FjlvUe0duLRy"
      },
      "source": [
        "Error Metrics Calculation"
      ]
    },
    {
      "cell_type": "code",
      "metadata": {
        "colab": {
          "base_uri": "https://localhost:8080/"
        },
        "id": "cc2hqL0huPWR",
        "outputId": "b8c005f0-a911-4a1d-891c-c84e9a27b3dc"
      },
      "source": [
        "import math\n",
        "from sklearn.metrics import mean_squared_error \n",
        "from sklearn.metrics import mean_absolute_error\n",
        "\n",
        "# Training Accuracy\n",
        "rmse = math.sqrt(mean_squared_error(y_train, y_pred_train)) \n",
        "print('Root mean square error', rmse)\n",
        "mse = (mean_squared_error(y_train, y_pred_train)) \n",
        "print('Mean square error', mse)\n",
        "mae=mean_absolute_error(y_train, y_pred_train)\n",
        "print('Mean absolute error', mae)"
      ],
      "execution_count": 26,
      "outputs": [
        {
          "output_type": "stream",
          "name": "stdout",
          "text": [
            "Root mean square error 0.30385884356173964\n",
            "Mean square error 0.09233019681067778\n",
            "Mean absolute error 0.2477340006610274\n"
          ]
        }
      ]
    },
    {
      "cell_type": "code",
      "metadata": {
        "colab": {
          "base_uri": "https://localhost:8080/"
        },
        "id": "ulg4aY5JuUk3",
        "outputId": "fd2c4815-6589-4e26-ac9c-5c409e47277c"
      },
      "source": [
        "#Testing Accuracies\n",
        "mse = math.sqrt(mean_squared_error(y_test, y_pred_test)) \n",
        "print('Root mean square error', mse) \n",
        "mse = (mean_squared_error(y_test, y_pred_test)) \n",
        "print('Mean square error', mse) \n",
        "mae=mean_absolute_error(y_test, y_pred_test)\n",
        "print('Mean absolute error', mae)"
      ],
      "execution_count": 27,
      "outputs": [
        {
          "output_type": "stream",
          "name": "stdout",
          "text": [
            "Root mean square error 0.32325027367815695\n",
            "Mean square error 0.10449073943300338\n",
            "Mean absolute error 0.22891315522620306\n"
          ]
        }
      ]
    },
    {
      "cell_type": "markdown",
      "metadata": {
        "id": "QCeyqfFiuZXs"
      },
      "source": [
        "Deployment"
      ]
    },
    {
      "cell_type": "code",
      "metadata": {
        "colab": {
          "base_uri": "https://localhost:8080/"
        },
        "id": "zrSXFXL8ubC9",
        "outputId": "4c52ef3f-5ef0-4bad-ad2d-1930b490347e"
      },
      "source": [
        "X=float(input('Enter the PH value of well water'))\n",
        "print('X=',X)\n",
        "\n",
        "x_nor = (X - x_min)/(x_max - x_min)\n",
        "y_nor = m*x_nor + c\n",
        "\n",
        "Y = y_nor*(y_max - y_min) + y_min \n",
        "print('The Bi-carbonates is equal to = ',Y)"
      ],
      "execution_count": 28,
      "outputs": [
        {
          "output_type": "stream",
          "name": "stdout",
          "text": [
            "Enter the PH value of well water7\n",
            "X= 7.0\n",
            "The Bi-carbonates is equal to =  206.26531419231523\n"
          ]
        }
      ]
    },
    {
      "cell_type": "code",
      "metadata": {
        "id": "km4isrvwxtr2"
      },
      "source": [
        ""
      ],
      "execution_count": 28,
      "outputs": []
    }
  ]
}
