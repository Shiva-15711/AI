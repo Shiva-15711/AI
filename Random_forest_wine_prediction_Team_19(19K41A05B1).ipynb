{
  "nbformat": 4,
  "nbformat_minor": 0,
  "metadata": {
    "colab": {
      "name": "Random forest_wine prediction_Team-19(19K41A05B1)",
      "provenance": [],
      "collapsed_sections": [],
      "include_colab_link": true
    },
    "kernelspec": {
      "name": "python3",
      "display_name": "Python 3"
    },
    "language_info": {
      "name": "python"
    }
  },
  "cells": [
    {
      "cell_type": "markdown",
      "metadata": {
        "id": "view-in-github",
        "colab_type": "text"
      },
      "source": [
        "<a href=\"https://colab.research.google.com/github/Shiva-15711/AI/blob/main/Random_forest_wine_prediction_Team_19(19K41A05B1).ipynb\" target=\"_parent\"><img src=\"https://colab.research.google.com/assets/colab-badge.svg\" alt=\"Open In Colab\"/></a>"
      ]
    },
    {
      "cell_type": "markdown",
      "metadata": {
        "id": "2SzQwtsPnsKL"
      },
      "source": [
        "Mount Drive"
      ]
    },
    {
      "cell_type": "code",
      "metadata": {
        "colab": {
          "base_uri": "https://localhost:8080/"
        },
        "id": "hYMiRzw1nvvx",
        "outputId": "f48f2b88-9b71-46aa-93e7-c20fc7c76a9e"
      },
      "source": [
        "from google.colab import drive\n",
        "drive.mount('/content/drive')"
      ],
      "execution_count": 1,
      "outputs": [
        {
          "output_type": "stream",
          "name": "stdout",
          "text": [
            "Mounted at /content/drive\n"
          ]
        }
      ]
    },
    {
      "cell_type": "markdown",
      "metadata": {
        "id": "RkZTIjuCoCHl"
      },
      "source": [
        "Import Libraries"
      ]
    },
    {
      "cell_type": "code",
      "metadata": {
        "id": "B45fRDZCoFy-"
      },
      "source": [
        "import numpy as nm  \n",
        "import matplotlib.pyplot as mtp  \n",
        "import pandas as pd"
      ],
      "execution_count": 2,
      "outputs": []
    },
    {
      "cell_type": "markdown",
      "metadata": {
        "id": "ZEkOtuSCoIGI"
      },
      "source": [
        "Load Data"
      ]
    },
    {
      "cell_type": "code",
      "metadata": {
        "colab": {
          "base_uri": "https://localhost:8080/",
          "height": 206
        },
        "id": "FqtR_I3moKmV",
        "outputId": "4b29dcde-fb3e-4867-a5fd-a2a78d576dfb"
      },
      "source": [
        "data = pd.read_csv(\"/content/drive/MyDrive/AI_data/Winequality_dataset_final.csv\")\n",
        "data.head()"
      ],
      "execution_count": 3,
      "outputs": [
        {
          "output_type": "execute_result",
          "data": {
            "text/html": [
              "<div>\n",
              "<style scoped>\n",
              "    .dataframe tbody tr th:only-of-type {\n",
              "        vertical-align: middle;\n",
              "    }\n",
              "\n",
              "    .dataframe tbody tr th {\n",
              "        vertical-align: top;\n",
              "    }\n",
              "\n",
              "    .dataframe thead th {\n",
              "        text-align: right;\n",
              "    }\n",
              "</style>\n",
              "<table border=\"1\" class=\"dataframe\">\n",
              "  <thead>\n",
              "    <tr style=\"text-align: right;\">\n",
              "      <th></th>\n",
              "      <th>fixed acidity</th>\n",
              "      <th>volatile acidity</th>\n",
              "      <th>citric acid</th>\n",
              "      <th>residual sugar</th>\n",
              "      <th>chlorides</th>\n",
              "      <th>free sulfur dioxide</th>\n",
              "      <th>total sulfur dioxide</th>\n",
              "      <th>density</th>\n",
              "      <th>sulphates</th>\n",
              "      <th>alcohol</th>\n",
              "      <th>quality</th>\n",
              "    </tr>\n",
              "  </thead>\n",
              "  <tbody>\n",
              "    <tr>\n",
              "      <th>0</th>\n",
              "      <td>7.4</td>\n",
              "      <td>0.70</td>\n",
              "      <td>0.00</td>\n",
              "      <td>1.9</td>\n",
              "      <td>0.076</td>\n",
              "      <td>11.0</td>\n",
              "      <td>34.0</td>\n",
              "      <td>0.9978</td>\n",
              "      <td>0.56</td>\n",
              "      <td>9.4</td>\n",
              "      <td>0</td>\n",
              "    </tr>\n",
              "    <tr>\n",
              "      <th>1</th>\n",
              "      <td>7.8</td>\n",
              "      <td>0.88</td>\n",
              "      <td>0.00</td>\n",
              "      <td>2.6</td>\n",
              "      <td>0.098</td>\n",
              "      <td>25.0</td>\n",
              "      <td>67.0</td>\n",
              "      <td>0.9968</td>\n",
              "      <td>0.68</td>\n",
              "      <td>9.8</td>\n",
              "      <td>0</td>\n",
              "    </tr>\n",
              "    <tr>\n",
              "      <th>2</th>\n",
              "      <td>7.8</td>\n",
              "      <td>0.76</td>\n",
              "      <td>0.04</td>\n",
              "      <td>2.3</td>\n",
              "      <td>0.092</td>\n",
              "      <td>15.0</td>\n",
              "      <td>54.0</td>\n",
              "      <td>0.9970</td>\n",
              "      <td>0.65</td>\n",
              "      <td>9.8</td>\n",
              "      <td>0</td>\n",
              "    </tr>\n",
              "    <tr>\n",
              "      <th>3</th>\n",
              "      <td>11.2</td>\n",
              "      <td>0.28</td>\n",
              "      <td>0.56</td>\n",
              "      <td>1.9</td>\n",
              "      <td>0.075</td>\n",
              "      <td>17.0</td>\n",
              "      <td>60.0</td>\n",
              "      <td>0.9980</td>\n",
              "      <td>0.58</td>\n",
              "      <td>9.8</td>\n",
              "      <td>1</td>\n",
              "    </tr>\n",
              "    <tr>\n",
              "      <th>4</th>\n",
              "      <td>7.4</td>\n",
              "      <td>0.70</td>\n",
              "      <td>0.00</td>\n",
              "      <td>1.9</td>\n",
              "      <td>0.076</td>\n",
              "      <td>11.0</td>\n",
              "      <td>34.0</td>\n",
              "      <td>0.9978</td>\n",
              "      <td>0.56</td>\n",
              "      <td>9.4</td>\n",
              "      <td>0</td>\n",
              "    </tr>\n",
              "  </tbody>\n",
              "</table>\n",
              "</div>"
            ],
            "text/plain": [
              "   fixed acidity  volatile acidity  citric acid  ...  sulphates  alcohol  quality\n",
              "0            7.4              0.70         0.00  ...       0.56      9.4        0\n",
              "1            7.8              0.88         0.00  ...       0.68      9.8        0\n",
              "2            7.8              0.76         0.04  ...       0.65      9.8        0\n",
              "3           11.2              0.28         0.56  ...       0.58      9.8        1\n",
              "4            7.4              0.70         0.00  ...       0.56      9.4        0\n",
              "\n",
              "[5 rows x 11 columns]"
            ]
          },
          "metadata": {},
          "execution_count": 3
        }
      ]
    },
    {
      "cell_type": "markdown",
      "metadata": {
        "id": "xvFLAkGxv7W5"
      },
      "source": [
        "# Min max values"
      ]
    },
    {
      "cell_type": "code",
      "metadata": {
        "colab": {
          "base_uri": "https://localhost:8080/"
        },
        "id": "iAJ2hOVNv4pg",
        "outputId": "96365cd1-8424-4124-9b5d-934335513aec"
      },
      "source": [
        "fixed_min = data['fixed acidity'].min()\n",
        "fixed_max = data['fixed acidity'].max()\n",
        "volatile_min = data['volatile acidity'].min()\n",
        "volatile_max = data['volatile acidity'].max()\n",
        "citric_min = data['citric acid'].min()\n",
        "citric_max = data['citric acid'].max()\n",
        "residual_min = data['residual sugar'].min()\n",
        "residual_max = data['residual sugar'].max()\n",
        "chlorides_min = data['chlorides'].min()\n",
        "chlorides_max = data['chlorides'].max()\n",
        "free_min = data['free sulfur dioxide'].min()\n",
        "free_max = data['free sulfur dioxide'].max()\n",
        "total_min = data['total sulfur dioxide'].min()\n",
        "total_max = data['total sulfur dioxide'].max()\n",
        "density_min = data['density'].min()\n",
        "density_max = data['density'].max()\n",
        "sulphates_min = data['sulphates'].min()\n",
        "sulphates_max = data['sulphates'].max()\n",
        "alcohol_min = data['alcohol'].min()\n",
        "alcohol_max = data['alcohol'].max()\n",
        "quality_min = data['quality'].min()\n",
        "quality_max = data['quality'].max()\n",
        "\n",
        "print(fixed_min, fixed_max, volatile_min, volatile_max, citric_min, citric_max, residual_min, residual_max, chlorides_min, chlorides_max, free_min, free_max,total_min, total_max,density_min, density_max,sulphates_min, sulphates_max,alcohol_min, alcohol_max,quality_min, quality_max)"
      ],
      "execution_count": 4,
      "outputs": [
        {
          "output_type": "stream",
          "name": "stdout",
          "text": [
            "4.6 15.9 0.12 1.58 0.0 1.0 0.9 15.5 0.012 0.611 1.0 72.0 6.0 289.0 0.9900700000000001 1.00369 0.33 2.0 8.4 14.9 0 1\n"
          ]
        }
      ]
    },
    {
      "cell_type": "markdown",
      "metadata": {
        "id": "veq7eNnpv3N5"
      },
      "source": [
        "# Normalization"
      ]
    },
    {
      "cell_type": "code",
      "metadata": {
        "id": "0n8zUzHvycaT",
        "colab": {
          "base_uri": "https://localhost:8080/",
          "height": 206
        },
        "outputId": "e6539d48-4dfb-4281-c1d2-b008098e6675"
      },
      "source": [
        "from sklearn.preprocessing import MinMaxScaler\n",
        "scaler = MinMaxScaler()\n",
        "# Applying scaler() to all the columns except the 'yes-no' and 'dummy' variables\n",
        "num_vars = ['fixed acidity', 'volatile acidity', 'citric acid', 'residual sugar', 'chlorides', 'free sulfur dioxide',\n",
        "            'total sulfur dioxide', 'density', 'sulphates', 'alcohol', 'quality']\n",
        "data[num_vars] = scaler.fit_transform(data[num_vars])\n",
        "\n",
        "data.head()"
      ],
      "execution_count": 5,
      "outputs": [
        {
          "output_type": "execute_result",
          "data": {
            "text/html": [
              "<div>\n",
              "<style scoped>\n",
              "    .dataframe tbody tr th:only-of-type {\n",
              "        vertical-align: middle;\n",
              "    }\n",
              "\n",
              "    .dataframe tbody tr th {\n",
              "        vertical-align: top;\n",
              "    }\n",
              "\n",
              "    .dataframe thead th {\n",
              "        text-align: right;\n",
              "    }\n",
              "</style>\n",
              "<table border=\"1\" class=\"dataframe\">\n",
              "  <thead>\n",
              "    <tr style=\"text-align: right;\">\n",
              "      <th></th>\n",
              "      <th>fixed acidity</th>\n",
              "      <th>volatile acidity</th>\n",
              "      <th>citric acid</th>\n",
              "      <th>residual sugar</th>\n",
              "      <th>chlorides</th>\n",
              "      <th>free sulfur dioxide</th>\n",
              "      <th>total sulfur dioxide</th>\n",
              "      <th>density</th>\n",
              "      <th>sulphates</th>\n",
              "      <th>alcohol</th>\n",
              "      <th>quality</th>\n",
              "    </tr>\n",
              "  </thead>\n",
              "  <tbody>\n",
              "    <tr>\n",
              "      <th>0</th>\n",
              "      <td>0.247788</td>\n",
              "      <td>0.397260</td>\n",
              "      <td>0.00</td>\n",
              "      <td>0.068493</td>\n",
              "      <td>0.106845</td>\n",
              "      <td>0.140845</td>\n",
              "      <td>0.098940</td>\n",
              "      <td>0.567548</td>\n",
              "      <td>0.137725</td>\n",
              "      <td>0.153846</td>\n",
              "      <td>0.0</td>\n",
              "    </tr>\n",
              "    <tr>\n",
              "      <th>1</th>\n",
              "      <td>0.283186</td>\n",
              "      <td>0.520548</td>\n",
              "      <td>0.00</td>\n",
              "      <td>0.116438</td>\n",
              "      <td>0.143573</td>\n",
              "      <td>0.338028</td>\n",
              "      <td>0.215548</td>\n",
              "      <td>0.494126</td>\n",
              "      <td>0.209581</td>\n",
              "      <td>0.215385</td>\n",
              "      <td>0.0</td>\n",
              "    </tr>\n",
              "    <tr>\n",
              "      <th>2</th>\n",
              "      <td>0.283186</td>\n",
              "      <td>0.438356</td>\n",
              "      <td>0.04</td>\n",
              "      <td>0.095890</td>\n",
              "      <td>0.133556</td>\n",
              "      <td>0.197183</td>\n",
              "      <td>0.169611</td>\n",
              "      <td>0.508811</td>\n",
              "      <td>0.191617</td>\n",
              "      <td>0.215385</td>\n",
              "      <td>0.0</td>\n",
              "    </tr>\n",
              "    <tr>\n",
              "      <th>3</th>\n",
              "      <td>0.584071</td>\n",
              "      <td>0.109589</td>\n",
              "      <td>0.56</td>\n",
              "      <td>0.068493</td>\n",
              "      <td>0.105175</td>\n",
              "      <td>0.225352</td>\n",
              "      <td>0.190813</td>\n",
              "      <td>0.582232</td>\n",
              "      <td>0.149701</td>\n",
              "      <td>0.215385</td>\n",
              "      <td>1.0</td>\n",
              "    </tr>\n",
              "    <tr>\n",
              "      <th>4</th>\n",
              "      <td>0.247788</td>\n",
              "      <td>0.397260</td>\n",
              "      <td>0.00</td>\n",
              "      <td>0.068493</td>\n",
              "      <td>0.106845</td>\n",
              "      <td>0.140845</td>\n",
              "      <td>0.098940</td>\n",
              "      <td>0.567548</td>\n",
              "      <td>0.137725</td>\n",
              "      <td>0.153846</td>\n",
              "      <td>0.0</td>\n",
              "    </tr>\n",
              "  </tbody>\n",
              "</table>\n",
              "</div>"
            ],
            "text/plain": [
              "   fixed acidity  volatile acidity  citric acid  ...  sulphates   alcohol  quality\n",
              "0       0.247788          0.397260         0.00  ...   0.137725  0.153846      0.0\n",
              "1       0.283186          0.520548         0.00  ...   0.209581  0.215385      0.0\n",
              "2       0.283186          0.438356         0.04  ...   0.191617  0.215385      0.0\n",
              "3       0.584071          0.109589         0.56  ...   0.149701  0.215385      1.0\n",
              "4       0.247788          0.397260         0.00  ...   0.137725  0.153846      0.0\n",
              "\n",
              "[5 rows x 11 columns]"
            ]
          },
          "metadata": {},
          "execution_count": 5
        }
      ]
    },
    {
      "cell_type": "markdown",
      "metadata": {
        "id": "mPVd7eTMoimI"
      },
      "source": [
        "Data Split"
      ]
    },
    {
      "cell_type": "code",
      "metadata": {
        "id": "KGwLFgMAomda"
      },
      "source": [
        "#split dataset in features and target variable\n",
        "feature_cols = ['fixed acidity', 'volatile acidity', 'citric acid', 'residual sugar', 'chlorides', 'free sulfur dioxide', 'total sulfur dioxide', 'density','sulphates','alcohol']\n",
        "X = data[feature_cols] \n",
        "y = data.quality"
      ],
      "execution_count": 6,
      "outputs": []
    },
    {
      "cell_type": "code",
      "metadata": {
        "id": "f_HFIN-PpI8P"
      },
      "source": [
        "# Split dataset into training set and test set\n",
        "from sklearn.model_selection import train_test_split\n",
        "X_train, X_test, y_train, y_test = train_test_split(X, y, test_size=0.3, random_state=1)"
      ],
      "execution_count": 7,
      "outputs": []
    },
    {
      "cell_type": "markdown",
      "metadata": {
        "id": "X1T9jhDhpN3X"
      },
      "source": [
        "Random Forest Model Training"
      ]
    },
    {
      "cell_type": "code",
      "metadata": {
        "colab": {
          "base_uri": "https://localhost:8080/"
        },
        "id": "ZRf7wfBJHsQE",
        "outputId": "4ef94e54-7057-4444-d1b9-8e316d4c600b"
      },
      "source": [
        "#Fitting Decision Tree classifier to the training set  \n",
        "from sklearn.ensemble import RandomForestClassifier  \n",
        "classifier= RandomForestClassifier(criterion=\"entropy\")  \n",
        "classifier.fit(X_train, y_train)  "
      ],
      "execution_count": 8,
      "outputs": [
        {
          "output_type": "execute_result",
          "data": {
            "text/plain": [
              "RandomForestClassifier(criterion='entropy')"
            ]
          },
          "metadata": {},
          "execution_count": 8
        }
      ]
    },
    {
      "cell_type": "code",
      "metadata": {
        "id": "Rd87N1NiH1FE"
      },
      "source": [
        "# Predicting the training and testing results\n",
        "y_pred_test= classifier.predict(X_test)  \n",
        "y_pred_train= classifier.predict(X_train) "
      ],
      "execution_count": 9,
      "outputs": []
    },
    {
      "cell_type": "code",
      "metadata": {
        "colab": {
          "base_uri": "https://localhost:8080/"
        },
        "id": "xHxY05guH6fy",
        "outputId": "160d97f3-8df8-4bab-e132-4d88d8049362"
      },
      "source": [
        "from sklearn import metrics #Import scikit-learn metrics module for accuracy calculation\n",
        "print(\"Accuracy for training Data\",metrics.accuracy_score(y_train, y_pred_train))\n",
        "print(\"Accuracy for testing Data\",metrics.accuracy_score(y_test, y_pred_test))"
      ],
      "execution_count": 10,
      "outputs": [
        {
          "output_type": "stream",
          "name": "stdout",
          "text": [
            "Accuracy for training Data 1.0\n",
            "Accuracy for testing Data 0.8145833333333333\n"
          ]
        }
      ]
    },
    {
      "cell_type": "code",
      "metadata": {
        "colab": {
          "base_uri": "https://localhost:8080/"
        },
        "id": "_BKquwiLHs2_",
        "outputId": "40604b56-84f6-424b-cc6c-84d4412f0fed"
      },
      "source": [
        "#Fitting Decision Tree classifier to the training set  \n",
        "from sklearn.ensemble import RandomForestClassifier  \n",
        "classifier= RandomForestClassifier(criterion=\"gini\")  \n",
        "classifier.fit(X_train, y_train)  "
      ],
      "execution_count": 11,
      "outputs": [
        {
          "output_type": "execute_result",
          "data": {
            "text/plain": [
              "RandomForestClassifier()"
            ]
          },
          "metadata": {},
          "execution_count": 11
        }
      ]
    },
    {
      "cell_type": "code",
      "metadata": {
        "id": "5JvL1GsRH124"
      },
      "source": [
        "# Predicting the training and testing results\n",
        "y_pred_test= classifier.predict(X_test)  \n",
        "y_pred_train= classifier.predict(X_train) "
      ],
      "execution_count": 12,
      "outputs": []
    },
    {
      "cell_type": "code",
      "metadata": {
        "colab": {
          "base_uri": "https://localhost:8080/"
        },
        "id": "UFP6vV7tH-pB",
        "outputId": "5c834baf-7e97-40ef-8043-5e3a0888f92d"
      },
      "source": [
        "from sklearn import metrics #Import scikit-learn metrics module for accuracy calculation\n",
        "print(\"Accuracy for training Data\",metrics.accuracy_score(y_train, y_pred_train))\n",
        "print(\"Accuracy for testing Data\",metrics.accuracy_score(y_test, y_pred_test))"
      ],
      "execution_count": 13,
      "outputs": [
        {
          "output_type": "stream",
          "name": "stdout",
          "text": [
            "Accuracy for training Data 1.0\n",
            "Accuracy for testing Data 0.81875\n"
          ]
        }
      ]
    },
    {
      "cell_type": "code",
      "metadata": {
        "colab": {
          "base_uri": "https://localhost:8080/"
        },
        "id": "WsGVb7svpQM-",
        "outputId": "4faf4bc5-5e66-4c16-fbce-49f9be793d07"
      },
      "source": [
        "#Fitting Decision Tree classifier to the training set  \n",
        "from sklearn.ensemble import RandomForestClassifier  \n",
        "classifier= RandomForestClassifier(n_estimators= 4, criterion=\"entropy\")  \n",
        "classifier.fit(X_train, y_train)  "
      ],
      "execution_count": 14,
      "outputs": [
        {
          "output_type": "execute_result",
          "data": {
            "text/plain": [
              "RandomForestClassifier(criterion='entropy', n_estimators=4)"
            ]
          },
          "metadata": {},
          "execution_count": 14
        }
      ]
    },
    {
      "cell_type": "markdown",
      "metadata": {
        "id": "qQ_fSc-UpT4B"
      },
      "source": [
        "Prediction"
      ]
    },
    {
      "cell_type": "code",
      "metadata": {
        "id": "Dz5V4iw7pU_I"
      },
      "source": [
        "# Predicting the training and testing results\n",
        "y_pred_test= classifier.predict(X_test)  \n",
        "y_pred_train= classifier.predict(X_train) "
      ],
      "execution_count": 15,
      "outputs": []
    },
    {
      "cell_type": "markdown",
      "metadata": {
        "id": "aPZcvMH6pWXE"
      },
      "source": [
        "Model Metrics"
      ]
    },
    {
      "cell_type": "code",
      "metadata": {
        "colab": {
          "base_uri": "https://localhost:8080/"
        },
        "id": "RP6VB9Dl1mYl",
        "outputId": "c2b6013b-4b3f-410c-a2d4-2c2e856e1eea"
      },
      "source": [
        "# Confusion matrix for testing Data  \n",
        "from sklearn.metrics import confusion_matrix  \n",
        "cm= confusion_matrix(y_train, y_pred_train)\n",
        "cm  "
      ],
      "execution_count": 16,
      "outputs": [
        {
          "output_type": "execute_result",
          "data": {
            "text/plain": [
              "array([[504,  10],\n",
              "       [ 54, 551]])"
            ]
          },
          "metadata": {},
          "execution_count": 16
        }
      ]
    },
    {
      "cell_type": "code",
      "metadata": {
        "colab": {
          "base_uri": "https://localhost:8080/"
        },
        "id": "YsM_tuRPpXhL",
        "outputId": "d15ca93f-2d81-497e-fcd3-4bec6848f0e2"
      },
      "source": [
        "# Confusion matrix for testing Data  \n",
        "from sklearn.metrics import confusion_matrix  \n",
        "cm1= confusion_matrix(y_test, y_pred_test)\n",
        "cm1  "
      ],
      "execution_count": 17,
      "outputs": [
        {
          "output_type": "execute_result",
          "data": {
            "text/plain": [
              "array([[191,  39],\n",
              "       [ 80, 170]])"
            ]
          },
          "metadata": {},
          "execution_count": 17
        }
      ]
    },
    {
      "cell_type": "code",
      "metadata": {
        "colab": {
          "base_uri": "https://localhost:8080/"
        },
        "id": "ULTXgDexpavA",
        "outputId": "a4407ea0-03bb-4201-94d0-a077b791d80c"
      },
      "source": [
        "from sklearn import metrics #Import scikit-learn metrics module for accuracy calculation\n",
        "print(\"Accuracy for training Data\",metrics.accuracy_score(y_train, y_pred_train))\n",
        "print(\"Accuracy for testing Data\",metrics.accuracy_score(y_test, y_pred_test))"
      ],
      "execution_count": 18,
      "outputs": [
        {
          "output_type": "stream",
          "name": "stdout",
          "text": [
            "Accuracy for training Data 0.9428060768543343\n",
            "Accuracy for testing Data 0.7520833333333333\n"
          ]
        }
      ]
    },
    {
      "cell_type": "markdown",
      "metadata": {
        "id": "mOkS1mJ-EstT"
      },
      "source": [
        "Model Training gini index"
      ]
    },
    {
      "cell_type": "code",
      "metadata": {
        "colab": {
          "base_uri": "https://localhost:8080/"
        },
        "id": "7na7EoNqEvAf",
        "outputId": "cff258ad-3c37-43c1-bd94-ca71bc2a1773"
      },
      "source": [
        "#Fitting Decision Tree classifier to the training set  \n",
        "from sklearn.ensemble import RandomForestClassifier  \n",
        "classifier= RandomForestClassifier(n_estimators= 4, criterion=\"gini\")  \n",
        "classifier.fit(X_train, y_train)  "
      ],
      "execution_count": 19,
      "outputs": [
        {
          "output_type": "execute_result",
          "data": {
            "text/plain": [
              "RandomForestClassifier(n_estimators=4)"
            ]
          },
          "metadata": {},
          "execution_count": 19
        }
      ]
    },
    {
      "cell_type": "markdown",
      "metadata": {
        "id": "yxRXvDeGEzu-"
      },
      "source": [
        "Model Prediction"
      ]
    },
    {
      "cell_type": "code",
      "metadata": {
        "id": "bl8dTKbYE1AZ"
      },
      "source": [
        "# Predicting the training and testing results\n",
        "y_pred_test= classifier.predict(X_test)  \n",
        "y_pred_train= classifier.predict(X_train) "
      ],
      "execution_count": 20,
      "outputs": []
    },
    {
      "cell_type": "code",
      "metadata": {
        "colab": {
          "base_uri": "https://localhost:8080/"
        },
        "id": "IvX4Z73yE94V",
        "outputId": "0726156c-1886-413c-9dbd-4edc5529449e"
      },
      "source": [
        "# Confusion matrix for testing Data  \n",
        "from sklearn.metrics import confusion_matrix  \n",
        "cm= confusion_matrix(y_train, y_pred_train)\n",
        "cm  "
      ],
      "execution_count": 21,
      "outputs": [
        {
          "output_type": "execute_result",
          "data": {
            "text/plain": [
              "array([[504,  10],\n",
              "       [ 45, 560]])"
            ]
          },
          "metadata": {},
          "execution_count": 21
        }
      ]
    },
    {
      "cell_type": "code",
      "metadata": {
        "colab": {
          "base_uri": "https://localhost:8080/"
        },
        "id": "pRAjD4fWE_Rg",
        "outputId": "c3f3bd59-1dde-4ee8-b3ce-81f089aa58c6"
      },
      "source": [
        "# Confusion matrix for testing Data  \n",
        "from sklearn.metrics import confusion_matrix  \n",
        "cm1= confusion_matrix(y_test, y_pred_test)\n",
        "cm1  "
      ],
      "execution_count": 22,
      "outputs": [
        {
          "output_type": "execute_result",
          "data": {
            "text/plain": [
              "array([[198,  32],\n",
              "       [ 89, 161]])"
            ]
          },
          "metadata": {},
          "execution_count": 22
        }
      ]
    },
    {
      "cell_type": "code",
      "metadata": {
        "colab": {
          "base_uri": "https://localhost:8080/"
        },
        "id": "t3vIsBudFHwo",
        "outputId": "b04eb30f-60e9-41cf-ee66-936878f5e351"
      },
      "source": [
        "from sklearn import metrics #Import scikit-learn metrics module for accuracy calculation\n",
        "print(\"Accuracy for training Data gini index \",metrics.accuracy_score(y_train, y_pred_train))\n",
        "print(\"Accuracy for testing Data gini index \",metrics.accuracy_score(y_test, y_pred_test))"
      ],
      "execution_count": 23,
      "outputs": [
        {
          "output_type": "stream",
          "name": "stdout",
          "text": [
            "Accuracy for training Data gini index  0.9508489722966935\n",
            "Accuracy for testing Data gini index  0.7479166666666667\n"
          ]
        }
      ]
    },
    {
      "cell_type": "markdown",
      "metadata": {
        "id": "IjXPcvhEq8pg"
      },
      "source": [
        "Save the Model"
      ]
    },
    {
      "cell_type": "code",
      "metadata": {
        "id": "SRAs6q0FqUXK"
      },
      "source": [
        "import pickle\n",
        "# Save the model\n",
        "filename = 'random_forest_model.pkl'\n",
        "pickle.dump(classifier, open(filename, 'wb'))"
      ],
      "execution_count": 24,
      "outputs": []
    },
    {
      "cell_type": "markdown",
      "metadata": {
        "id": "wUcrEdcgrESL"
      },
      "source": [
        "Deployment"
      ]
    },
    {
      "cell_type": "code",
      "metadata": {
        "colab": {
          "base_uri": "https://localhost:8080/"
        },
        "id": "JpxIMYl0rFnp",
        "outputId": "c152a524-d95a-4ce0-ce2a-b0cb3577d76c"
      },
      "source": [
        "list_of_columns = data.columns\n",
        "input_data=pd.DataFrame(columns=list_of_columns)\n",
        "input_data.drop(['quality'], axis='columns', inplace=True)\n",
        "\n",
        "\n",
        "input_data.at[0, 'fixed acidity'] = float(input('Enter Fixed Acidity Content '))\n",
        "input_data.at[0, 'volatile acidity'] = float(input('Enter Volatile Acidity Content '))\n",
        "input_data.at[0, 'citric acid'] = float(input('Enter Citric Acid Content '))\n",
        "input_data.at[0, 'residual sugar'] = float(input('Enter residual Sugar Content '))\n",
        "input_data.at[0, 'chlorides'] = float(input('Enter Chlorides Content '))\n",
        "input_data.at[0, 'free sulfur dioxide'] = float(input('Enter Free Sulphur Dioxide Content '))\n",
        "input_data.at[0, 'total sulfur dioxide'] = float(input('Enter total Sulphur Dioxide Content'))\n",
        "input_data.at[0, 'density'] = float(input('Enter Density Content'))\n",
        "input_data.at[0, 'sulphates'] = float(input('Enter Sulphates Content'))\n",
        "input_data.at[0, 'alcohol'] = float(input('Enter Alcohol Content'))"
      ],
      "execution_count": 25,
      "outputs": [
        {
          "name": "stdout",
          "output_type": "stream",
          "text": [
            "Enter Fixed Acidity Content 7.4\n",
            "Enter Volatile Acidity Content 0.7\n",
            "Enter Citric Acid Content 0\n",
            "Enter residual Sugar Content 1.9\n",
            "Enter Chlorides Content .076\n",
            "Enter Free Sulphur Dioxide Content 11\n",
            "Enter total Sulphur Dioxide Content34\n",
            "Enter Density Content0.9978\n",
            "Enter Sulphates Content0.56\n",
            "Enter Alcohol Content9.4\n"
          ]
        }
      ]
    },
    {
      "cell_type": "markdown",
      "metadata": {
        "id": "lrLgUdP6k7N_"
      },
      "source": [
        "Denormalization"
      ]
    },
    {
      "cell_type": "code",
      "metadata": {
        "colab": {
          "base_uri": "https://localhost:8080/"
        },
        "id": "HhaySpwfk0nL",
        "outputId": "ee633a99-b5e8-4036-ce97-9a39ea7f80d9"
      },
      "source": [
        "input_data['fixed acidity']=(input_data['fixed acidity']-fixed_min)/(fixed_max-fixed_min)\n",
        "input_data['volatile acidity']=(input_data['volatile acidity']-volatile_min)/(volatile_max-volatile_min)\n",
        "input_data['citric acid']=(input_data['citric acid']-citric_min)/(citric_max-citric_min)\n",
        "input_data['residual sugar']=(input_data['residual sugar']-residual_min)/(residual_max-residual_min)\n",
        "input_data['chlorides']=(input_data['chlorides']-chlorides_min)/(chlorides_max-chlorides_min)\n",
        "input_data['free sulfur dioxide']=(input_data['free sulfur dioxide']-free_min)/(free_max-free_min)\n",
        "input_data['total sulfur dioxide']=(input_data['total sulfur dioxide']-total_min)/(total_max-total_min)\n",
        "input_data['density']=(input_data['density']-density_min)/(density_max-density_min)\n",
        "input_data['sulphates']=(input_data['sulphates']-sulphates_min)/(sulphates_max-sulphates_min)\n",
        "input_data['alcohol']=(input_data['alcohol']-alcohol_min)/(alcohol_max-alcohol_min)\n",
        "\n",
        "y_pred =  classifier.predict(input_data)\n",
        "quality = y_pred*(quality_max-quality_min)+quality_min\n",
        "if quality == 1:\n",
        "  print('The wine quality is good.')\n",
        "else:\n",
        "  print('The quality of wine is bad.')"
      ],
      "execution_count": 26,
      "outputs": [
        {
          "output_type": "stream",
          "name": "stdout",
          "text": [
            "The quality of wine is bad.\n"
          ]
        }
      ]
    }
  ]
}